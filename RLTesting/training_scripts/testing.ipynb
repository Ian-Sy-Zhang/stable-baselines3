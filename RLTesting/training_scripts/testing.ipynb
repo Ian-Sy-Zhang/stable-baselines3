{
 "cells": [
  {
   "cell_type": "code",
   "execution_count": null,
   "metadata": {},
   "outputs": [],
   "source": [
    "import gymnasium as gym\n",
    "# gym.make('FrozenLake-v1', desc=None, map_name=\"4x4\", is_slippery=True)\n",
    "from stable_baselines3 import DQN\n",
    "import numpy\n",
    "from stable_baselines3.common.env_checker import check_env\n",
    "import torch"
   ]
  },
  {
   "cell_type": "code",
   "execution_count": null,
   "metadata": {},
   "outputs": [],
   "source": [
    "desc=[\"SFFF\", \"FHFH\", \"FFFH\", \"HFFG\"]\n",
    "# gym.make('FrozenLake-v1', desc=desc, is_slippery=True)"
   ]
  },
  {
   "cell_type": "code",
   "execution_count": null,
   "metadata": {},
   "outputs": [],
   "source": [
    "# env = gym.make('FrozenLake-v1', desc=None, map_name=\"4x4\", is_slippery=False, render_mode = \"human\")\n",
    "# observation, info = env.reset()\n",
    "# for _ in range(10):\n",
    "#     action = env.action_space.sample()  # agent policy that uses the observation and info\n",
    "#     observation, reward, terminated, truncated, info = env.step(action)\n",
    "#     if terminated or truncated:\n",
    "#         observation, info = env.reset()\n",
    "# env.close()"
   ]
  },
  {
   "cell_type": "code",
   "execution_count": null,
   "metadata": {},
   "outputs": [],
   "source": [
    "class EnvWrapper(gym.Env):\n",
    "    def __init__(self):\n",
    "        self.env = gym.make('FrozenLake-v1', map_name=\"4x4\", is_slippery=False, max_episode_steps = 200)\n",
    "        # self.env = gym.make('FrozenLake-v1', desc=None, map_name=\"4x4\", is_slippery=False, max_episode_steps = 20)\n",
    "        # self.env = gym.make(\"CartPole-v1\", max_episode_steps=200)\n",
    "        self.action_space = self.env.action_space\n",
    "        self.observation_space = self.env.observation_space\n",
    "    \n",
    "    def step(self, action):\n",
    "        obs, reward, terminated, truncated, info = self.env.step(action)   # calls the gym env methods\n",
    "        if obs == 15:\n",
    "            reward = 1\n",
    "        elif terminated:\n",
    "            reward = -10\n",
    "        else:\n",
    "            reward = -1\n",
    "        return obs, reward, terminated, truncated, info\n",
    "\n",
    "    def reset(self, seed=None):\n",
    "        return self.env.reset(seed=seed)\n",
    "    \n",
    "    def randomlize_rewarder():\n",
    "        return\n",
    "    \n",
    "env = EnvWrapper()\n",
    "env.reset(0)\n",
    "check_env(env)"
   ]
  },
  {
   "cell_type": "code",
   "execution_count": null,
   "metadata": {},
   "outputs": [],
   "source": [
    "\n",
    "\n",
    "# game = \"CartPole-v1\"\n",
    "# env = gym.make(game, render_mode = \"rgb_array\")\n",
    "model = DQN(\"MlpPolicy\", env, verbose=1)\n",
    "model.learn(total_timesteps=100000)\n",
    "\n",
    "vec_env = model.get_env()\n",
    "obs = vec_env.reset()\n",
    "for i in range(1000):\n",
    "    action, _state = model.predict(obs, deterministic=True)\n",
    "    obs, reward, done, info = vec_env.step(action)\n",
    "    vec_env.render(\"human\")"
   ]
  }
 ],
 "metadata": {
  "kernelspec": {
   "display_name": "SB3Testing",
   "language": "python",
   "name": "python3"
  },
  "language_info": {
   "codemirror_mode": {
    "name": "ipython",
    "version": 3
   },
   "file_extension": ".py",
   "mimetype": "text/x-python",
   "name": "python",
   "nbconvert_exporter": "python",
   "pygments_lexer": "ipython3",
   "version": "3.10.13"
  },
  "orig_nbformat": 4
 },
 "nbformat": 4,
 "nbformat_minor": 2
}
