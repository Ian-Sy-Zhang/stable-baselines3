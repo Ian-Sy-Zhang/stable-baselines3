{
 "cells": [
  {
   "cell_type": "code",
   "execution_count": 9,
   "metadata": {},
   "outputs": [],
   "source": [
    "import stable_baselines3\n",
    "from configparser import ConfigParser\n",
    "import bug_lib as BL\n",
    "import subprocess\n",
    "import os\n",
    "from datetime import date\n",
    "import state_machine_rewarder as SMR\n",
    "import re\n",
    "import matplotlib.pyplot as plt\n",
    "import numpy as np\n",
    "import pandas as pd\n",
    "from scipy.stats import linregress"
   ]
  },
  {
   "cell_type": "code",
   "execution_count": null,
   "metadata": {},
   "outputs": [],
   "source": [
    "def parserConfig():\n",
    "    cfg = ConfigParser()\n",
    "    cfg.read('config.ini')\n",
    "    config = {}\n",
    "    config['root_dir'] = cfg.get('param','root_dir')\n",
    "    # config['real_life'] = cfg.get('param','real_life')\n",
    "\n",
    "    # config['bug_num'] = int(cfg.get('param','bug_num'))\n",
    "    # config['specific_bug'] = cfg.get('param','specific_bug')\n",
    "    \n",
    "    temp = cfg.get('param','specified_bug_id')[1:-1]\n",
    "    config['specified_bug_id'] = [int(t.strip()) for t in temp.split(',')]\n",
    "\n",
    "    config['epoches'] = int(cfg.get('param','epoches'))\n",
    "    config['rounds'] = int(cfg.get('param','rounds'))\n",
    "    return config"
   ]
  },
  {
   "cell_type": "code",
   "execution_count": null,
   "metadata": {},
   "outputs": [],
   "source": [
    "# 使用方式\n",
    "# run_python_and_capture_print('/path/to/your/python/file.py', '/path/to/your/log/file.txt')\n",
    "def run_python_and_capture_print(python_file_path, log_file_path):\n",
    "    command = f\"python {python_file_path}\"\n",
    "    with open(log_file_path, 'w') as f:\n",
    "        process = subprocess.Popen(command, stdout=subprocess.PIPE, stderr=subprocess.STDOUT, shell=True)\n",
    "\n",
    "        for line in iter(process.stdout.readline, b''):\n",
    "            line = line.decode('utf-8').rstrip()  # 解码输出并去除尾部空格\n",
    "            print(line)  # 可以在控制台打印\n",
    "            f.write(line + '\\n')  # 写入到日志文件\n",
    "\n",
    "def write_in_log_end(description, log_file_path):\n",
    "    with open(log_file_path, 'a') as f:\n",
    "        f.write('\\n' + description)\n",
    "    return"
   ]
  },
  {
   "cell_type": "code",
   "execution_count": null,
   "metadata": {},
   "outputs": [],
   "source": [
    "# for i in range(10):\n",
    "#     os.chdir(\"..\")\n",
    "#     os.system('pwd')"
   ]
  },
  {
   "cell_type": "markdown",
   "metadata": {},
   "source": [
    "### Inject Bugs & Run Experiment"
   ]
  },
  {
   "cell_type": "code",
   "execution_count": null,
   "metadata": {},
   "outputs": [],
   "source": [
    "def main(config):\n",
    "    \n",
    "    for round in range(config['rounds']):\n",
    "        print(\"round: \" + str(round) + \"----\")\n",
    "        BL.recover_project\n",
    "        BL.inject_bugs(config)\n",
    "        \n",
    "        # pip重新安装repository\n",
    "        os.chdir(\"..\")\n",
    "        # os.system('ls')\n",
    "        os.system('pip install -e .[docs,tests,extra]')\n",
    "        \n",
    "        log_dir = config['root_dir'] + '/logs/'\n",
    "        if not os.path.exists(log_dir):\n",
    "            os.makedirs(log_dir)\n",
    "        log_name = log_dir + 'time_' + date.today() + 'round_' + str(round)\n",
    "        with open(log_name, 'w') as log_file:\n",
    "            log_file.write(config)\n",
    "            log_file.write(\"-------------\")\n",
    "        \n",
    "        for epoch in range(config['epoches']):\n",
    "            print(\"epoch: \" + str(epoch) + \"----\")\n",
    "            \n",
    "            training_script = + '' # path of training script\n",
    "            \n",
    "            run_python_and_capture_print(training_script, log_name)"
   ]
  },
  {
   "cell_type": "code",
   "execution_count": null,
   "metadata": {},
   "outputs": [],
   "source": [
    "bug_version_list = [\n",
    "    [0],\n",
    "    [1],\n",
    "    # ...,\n",
    "    [1,2,3]\n",
    "]\n",
    "\n",
    "# create different config files using bug_version list\n",
    "\n",
    "config = parserConfig()\n",
    "\n",
    "for bug_version in bug_version_list:\n",
    "    config['specific_bug'] = bug_version\n",
    "    "
   ]
  },
  {
   "cell_type": "markdown",
   "metadata": {},
   "source": [
    "### Validation Part"
   ]
  },
  {
   "cell_type": "code",
   "execution_count": null,
   "metadata": {},
   "outputs": [],
   "source": [
    "# actions_dict = state_machine_rewarder.ActionScoringStateMachine.state_action_dict\n",
    "actions_dict = {\n",
    "            (2, 2): 'up',\n",
    "            (2, 1): 'right',\n",
    "            (3, 1): 'down',\n",
    "            (3, 2): 'down',\n",
    "        }\n",
    "\n",
    "# actions_dict = SMR.ActionScoringStateMachine.\n",
    "\n",
    "def parse_log_cal_correct_action_percentage_by_epoch(file_path, start_epoch, end_epoch, actions_dict):\n",
    "    with open(file_path, 'r') as log_file:\n",
    "        log_data = log_file.read()\n",
    "\n",
    "    log_divided_by_epoch = log_data.split(\"restart! --------\")\n",
    "    correct_actions_percentage_list = []\n",
    "    for epoch_index in range(start_epoch, end_epoch):\n",
    "        epoch_log = log_divided_by_epoch[epoch_index]\n",
    "        # 使用正则表达式匹配日志中的坐标和行动\n",
    "        matches = re.findall(r\"\\((\\d+),\\s*(\\d+)\\)\\s(\\w+)\", epoch_log)\n",
    "\n",
    "        correct_actions_count = 0\n",
    "        total_actions_count = len(matches)\n",
    "\n",
    "        # 对每个匹配项检查是否遵循给定的行动字典\n",
    "        for match in matches:\n",
    "            coord = (int(match[0]), int(match[1]))\n",
    "            action = match[2]\n",
    "    \n",
    "            # 检查坐标是否在字典中，并且行动是否一致\n",
    "            if coord in actions_dict and actions_dict[coord] == action:\n",
    "                correct_actions_count += 1\n",
    "\n",
    "        # 计算正确行动的百分比\n",
    "        correct_actions_percentage = (correct_actions_count / total_actions_count) * 100\n",
    "\n",
    "        # 打印结果\n",
    "        # print(f\"Correct actions percentage: {correct_actions_percentage:.2f}%\")\n",
    "        correct_actions_percentage_list.append(correct_actions_percentage)\n",
    "    return correct_actions_percentage_list"
   ]
  },
  {
   "cell_type": "code",
   "execution_count": null,
   "metadata": {},
   "outputs": [],
   "source": [
    "def linelar_regression(data):\n",
    "# data = [100, 102, 98, 97, 105, 110, 108, 112, 115, 118, 121, 125]\n",
    "# data = result\n",
    "\n",
    "    # 将数据转换成Pandas Series对象\n",
    "    series = pd.Series(data)\n",
    "\n",
    "    # 计算简单移动平均(SMA)和指数移动平均(EMA)\n",
    "    sma = series.rolling(window=3).mean()\n",
    "    ema = series.ewm(span=3, adjust=False).mean()\n",
    "\n",
    "    # 使用线性回归判断趋势\n",
    "    slope, intercept, r_value, p_value, std_err = linregress(range(len(data)), data)\n",
    "\n",
    "    # 绘制数据和趋势线\n",
    "    plt.figure(figsize=(12, 6))\n",
    "    plt.plot(data, label='Original Data', marker='o')\n",
    "    # plt.plot(sma, label='SMA 3-period', linestyle='--')\n",
    "    # plt.plot(ema, label='EMA 3-period', linestyle='--')\n",
    "    plt.plot(range(len(data)), intercept + slope * np.asarray(range(len(data))), 'r', label=f'Trend Line: slope={slope:.2f}')\n",
    "    plt.legend()\n",
    "    plt.title('Data Trend Analysis')\n",
    "    plt.show()\n",
    "\n",
    "    # 输出线性回归结果\n",
    "    print(f\"Slope of trend line: {slope:.2f}\")\n",
    "    print(f\"R-squared: {r_value**2:.2f}\")\n",
    "    print(f\"P-value of trend line: {p_value:.2f}\")\n",
    "\n",
    "    # 如果斜率显著大于0，我们可以认为存在上升趋势\n",
    "    if p_value < 0.05 and slope > 0:\n",
    "        print(\"The data shows a statistically significant increasing trend.\")\n",
    "    else:\n",
    "        print(\"The data does not show a statistically significant increasing trend.\")"
   ]
  }
 ],
 "metadata": {
  "kernelspec": {
   "display_name": "SB3Testing",
   "language": "python",
   "name": "python3"
  },
  "language_info": {
   "codemirror_mode": {
    "name": "ipython",
    "version": 3
   },
   "file_extension": ".py",
   "mimetype": "text/x-python",
   "name": "python",
   "nbconvert_exporter": "python",
   "pygments_lexer": "ipython3",
   "version": "3.10.13"
  },
  "orig_nbformat": 4
 },
 "nbformat": 4,
 "nbformat_minor": 2
}
